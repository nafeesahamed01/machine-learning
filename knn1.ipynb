{
  "nbformat": 4,
  "nbformat_minor": 0,
  "metadata": {
    "colab": {
      "provenance": []
    },
    "kernelspec": {
      "name": "python3",
      "display_name": "Python 3"
    },
    "language_info": {
      "name": "python"
    }
  },
  "cells": [
    {
      "cell_type": "code",
      "execution_count": null,
      "metadata": {
        "id": "kdOzYEg5T93k"
      },
      "outputs": [],
      "source": [
        "from sklearn.datasets import load_iris\n",
        "from sklearn.neighbors import KNeighborsClassifier\n",
        "from sklearn.model_selection import train_test_split\n",
        "from sklearn import metrics\n",
        "from sklearn.metrics import confusion_matrix\n",
        "iris_dataset = load_iris()\n",
        "X_train,X_test,y_train,y_test = train_test_split(iris_dataset['data'],iris_dataset['target'],random_state=0)\n",
        "print(\"X_Train Shape:\",X_train.shape)\n",
        "print(\"Y_Train Shape:\",y_train.shape)\n",
        "Knn = KNeighborsClassifier(n_neighbors=1)\n",
        "Knn.fit(X_train,y_train)\n",
        "prediction = Knn.predict([[4.5,1.2,1.3,1.9]])\n",
        "print(\"prediction:\",prediction)\n",
        "print(\"prediction target name:\",iris_dataset['target_names'][prediction])\n",
        "y_pred=Knn.predict(X_test)\n",
        "print(\"test set prediction :\",y_pred)\n",
        "print(\"KNN(in %):\",metrics.accuracy_score(y_test, y_pred)*100)\n",
        "pred = Knn.predict(X_test)"
      ]
    }
  ]
}